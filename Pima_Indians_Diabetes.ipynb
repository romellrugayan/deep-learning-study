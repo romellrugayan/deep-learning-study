{
 "cells": [
  {
   "cell_type": "code",
   "execution_count": 5,
   "metadata": {},
   "outputs": [],
   "source": [
    "# importing python libraries\n",
    "import numpy as np\n",
    "import pandas as pd\n",
    "import matplotlib.pyplot as plt\n",
    "%matplotlib inline"
   ]
  },
  {
   "cell_type": "code",
   "execution_count": 39,
   "metadata": {},
   "outputs": [],
   "source": [
    "# load datasets\n",
    "dataset = np.loadtxt('data/pima-indians-diabetes.csv', delimiter=',')\n",
    "\n",
    "# split into features and target label\n",
    "X = dataset[:, 0:8]\n",
    "y = dataset[:, 8]\n"
   ]
  },
  {
   "cell_type": "code",
   "execution_count": 40,
   "metadata": {},
   "outputs": [],
   "source": [
    "# Splitting the dataset into the Training set and Test set\n",
    "from sklearn.model_selection import train_test_split\n",
    "X_train, X_test, y_train, y_test = train_test_split(X, y, test_size = 0.20, random_state = 0)"
   ]
  },
  {
   "cell_type": "code",
   "execution_count": 41,
   "metadata": {},
   "outputs": [],
   "source": [
    "# import tensorflow and keras\n",
    "from keras.models import Sequential\n",
    "from keras.layers import Dense"
   ]
  },
  {
   "cell_type": "code",
   "execution_count": 42,
   "metadata": {},
   "outputs": [],
   "source": [
    "# building neural netwwork model\n",
    "model = Sequential()\n",
    "model.add(Dense(12, input_dim=8, activation='relu'))\n",
    "model.add(Dense(12, activation='relu'))\n",
    "model.add(Dense(8, activation='relu'))\n",
    "model.add(Dense(1, activation='sigmoid'))"
   ]
  },
  {
   "cell_type": "code",
   "execution_count": 43,
   "metadata": {},
   "outputs": [],
   "source": [
    "# compile the keras model\n",
    "model.compile(loss='binary_crossentropy', optimizer='adam', metrics=['accuracy'])"
   ]
  },
  {
   "cell_type": "code",
   "execution_count": 64,
   "metadata": {},
   "outputs": [
    {
     "name": "stdout",
     "output_type": "stream",
     "text": [
      "Epoch 1/85\n",
      "614/614 [==============================] - 0s 176us/step - loss: 0.3427 - accuracy: 0.8355\n",
      "Epoch 2/85\n",
      "614/614 [==============================] - 0s 124us/step - loss: 0.3323 - accuracy: 0.8567\n",
      "Epoch 3/85\n",
      "614/614 [==============================] - 0s 200us/step - loss: 0.3393 - accuracy: 0.8420\n",
      "Epoch 4/85\n",
      "614/614 [==============================] - 0s 150us/step - loss: 0.3386 - accuracy: 0.8502\n",
      "Epoch 5/85\n",
      "614/614 [==============================] - 0s 129us/step - loss: 0.3629 - accuracy: 0.8322\n",
      "Epoch 6/85\n",
      "614/614 [==============================] - 0s 132us/step - loss: 0.3713 - accuracy: 0.8339\n",
      "Epoch 7/85\n",
      "614/614 [==============================] - 0s 129us/step - loss: 0.3416 - accuracy: 0.8502\n",
      "Epoch 8/85\n",
      "614/614 [==============================] - 0s 129us/step - loss: 0.3408 - accuracy: 0.8404\n",
      "Epoch 9/85\n",
      "614/614 [==============================] - 0s 129us/step - loss: 0.3359 - accuracy: 0.8616\n",
      "Epoch 10/85\n",
      "614/614 [==============================] - 0s 127us/step - loss: 0.3406 - accuracy: 0.8420\n",
      "Epoch 11/85\n",
      "614/614 [==============================] - 0s 125us/step - loss: 0.3469 - accuracy: 0.8339\n",
      "Epoch 12/85\n",
      "614/614 [==============================] - 0s 134us/step - loss: 0.3500 - accuracy: 0.8404\n",
      "Epoch 13/85\n",
      "614/614 [==============================] - 0s 129us/step - loss: 0.3378 - accuracy: 0.8518\n",
      "Epoch 14/85\n",
      "614/614 [==============================] - 0s 132us/step - loss: 0.3340 - accuracy: 0.8502\n",
      "Epoch 15/85\n",
      "614/614 [==============================] - 0s 138us/step - loss: 0.3376 - accuracy: 0.8404\n",
      "Epoch 16/85\n",
      "614/614 [==============================] - 0s 129us/step - loss: 0.3414 - accuracy: 0.8436\n",
      "Epoch 17/85\n",
      "614/614 [==============================] - 0s 132us/step - loss: 0.3329 - accuracy: 0.8583\n",
      "Epoch 18/85\n",
      "614/614 [==============================] - 0s 129us/step - loss: 0.3312 - accuracy: 0.8436\n",
      "Epoch 19/85\n",
      "614/614 [==============================] - 0s 129us/step - loss: 0.3368 - accuracy: 0.8518\n",
      "Epoch 20/85\n",
      "614/614 [==============================] - 0s 125us/step - loss: 0.3337 - accuracy: 0.8485\n",
      "Epoch 21/85\n",
      "614/614 [==============================] - 0s 130us/step - loss: 0.3383 - accuracy: 0.8469\n",
      "Epoch 22/85\n",
      "614/614 [==============================] - 0s 124us/step - loss: 0.3658 - accuracy: 0.8371\n",
      "Epoch 23/85\n",
      "614/614 [==============================] - 0s 134us/step - loss: 0.3414 - accuracy: 0.8404\n",
      "Epoch 24/85\n",
      "614/614 [==============================] - 0s 130us/step - loss: 0.3555 - accuracy: 0.8420\n",
      "Epoch 25/85\n",
      "614/614 [==============================] - 0s 130us/step - loss: 0.3581 - accuracy: 0.8290\n",
      "Epoch 26/85\n",
      "614/614 [==============================] - 0s 125us/step - loss: 0.3425 - accuracy: 0.8388\n",
      "Epoch 27/85\n",
      "614/614 [==============================] - 0s 125us/step - loss: 0.3386 - accuracy: 0.8420\n",
      "Epoch 28/85\n",
      "614/614 [==============================] - 0s 125us/step - loss: 0.3327 - accuracy: 0.8502\n",
      "Epoch 29/85\n",
      "614/614 [==============================] - 0s 138us/step - loss: 0.3442 - accuracy: 0.8485\n",
      "Epoch 30/85\n",
      "614/614 [==============================] - 0s 138us/step - loss: 0.3392 - accuracy: 0.8518\n",
      "Epoch 31/85\n",
      "614/614 [==============================] - 0s 127us/step - loss: 0.3507 - accuracy: 0.8404\n",
      "Epoch 32/85\n",
      "614/614 [==============================] - 0s 145us/step - loss: 0.3411 - accuracy: 0.8534\n",
      "Epoch 33/85\n",
      "614/614 [==============================] - 0s 127us/step - loss: 0.3373 - accuracy: 0.8404\n",
      "Epoch 34/85\n",
      "614/614 [==============================] - 0s 122us/step - loss: 0.3309 - accuracy: 0.8502\n",
      "Epoch 35/85\n",
      "614/614 [==============================] - 0s 134us/step - loss: 0.3407 - accuracy: 0.8371\n",
      "Epoch 36/85\n",
      "614/614 [==============================] - 0s 132us/step - loss: 0.3478 - accuracy: 0.8306\n",
      "Epoch 37/85\n",
      "614/614 [==============================] - 0s 121us/step - loss: 0.3605 - accuracy: 0.8436\n",
      "Epoch 38/85\n",
      "614/614 [==============================] - 0s 124us/step - loss: 0.3487 - accuracy: 0.8485\n",
      "Epoch 39/85\n",
      "614/614 [==============================] - 0s 179us/step - loss: 0.3314 - accuracy: 0.8404\n",
      "Epoch 40/85\n",
      "614/614 [==============================] - 0s 135us/step - loss: 0.3433 - accuracy: 0.8404\n",
      "Epoch 41/85\n",
      "614/614 [==============================] - 0s 124us/step - loss: 0.3427 - accuracy: 0.8583\n",
      "Epoch 42/85\n",
      "614/614 [==============================] - 0s 127us/step - loss: 0.3440 - accuracy: 0.8388\n",
      "Epoch 43/85\n",
      "614/614 [==============================] - 0s 137us/step - loss: 0.3298 - accuracy: 0.8502\n",
      "Epoch 44/85\n",
      "614/614 [==============================] - 0s 124us/step - loss: 0.3253 - accuracy: 0.8583\n",
      "Epoch 45/85\n",
      "614/614 [==============================] - 0s 129us/step - loss: 0.3513 - accuracy: 0.8599\n",
      "Epoch 46/85\n",
      "614/614 [==============================] - 0s 125us/step - loss: 0.3256 - accuracy: 0.8518\n",
      "Epoch 47/85\n",
      "614/614 [==============================] - 0s 129us/step - loss: 0.3413 - accuracy: 0.8453\n",
      "Epoch 48/85\n",
      "614/614 [==============================] - 0s 130us/step - loss: 0.3458 - accuracy: 0.8420\n",
      "Epoch 49/85\n",
      "614/614 [==============================] - 0s 125us/step - loss: 0.3263 - accuracy: 0.8534\n",
      "Epoch 50/85\n",
      "614/614 [==============================] - 0s 132us/step - loss: 0.3501 - accuracy: 0.8371\n",
      "Epoch 51/85\n",
      "614/614 [==============================] - 0s 130us/step - loss: 0.3489 - accuracy: 0.8453\n",
      "Epoch 52/85\n",
      "614/614 [==============================] - 0s 125us/step - loss: 0.3292 - accuracy: 0.8550\n",
      "Epoch 53/85\n",
      "614/614 [==============================] - 0s 148us/step - loss: 0.3376 - accuracy: 0.8583\n",
      "Epoch 54/85\n",
      "614/614 [==============================] - 0s 153us/step - loss: 0.3485 - accuracy: 0.8404\n",
      "Epoch 55/85\n",
      "614/614 [==============================] - 0s 129us/step - loss: 0.3267 - accuracy: 0.8469\n",
      "Epoch 56/85\n",
      "614/614 [==============================] - 0s 116us/step - loss: 0.3346 - accuracy: 0.8648\n",
      "Epoch 57/85\n",
      "614/614 [==============================] - 0s 116us/step - loss: 0.3289 - accuracy: 0.8469\n",
      "Epoch 58/85\n",
      "614/614 [==============================] - 0s 117us/step - loss: 0.3363 - accuracy: 0.8550\n",
      "Epoch 59/85\n",
      "614/614 [==============================] - 0s 117us/step - loss: 0.3414 - accuracy: 0.8404\n",
      "Epoch 60/85\n",
      "614/614 [==============================] - 0s 117us/step - loss: 0.3478 - accuracy: 0.8518\n",
      "Epoch 61/85\n",
      "614/614 [==============================] - 0s 112us/step - loss: 0.3246 - accuracy: 0.8518\n",
      "Epoch 62/85\n",
      "614/614 [==============================] - 0s 119us/step - loss: 0.3613 - accuracy: 0.8274\n",
      "Epoch 63/85\n",
      "614/614 [==============================] - 0s 116us/step - loss: 0.3345 - accuracy: 0.8534\n",
      "Epoch 64/85\n",
      "614/614 [==============================] - 0s 116us/step - loss: 0.3292 - accuracy: 0.8436\n",
      "Epoch 65/85\n",
      "614/614 [==============================] - 0s 116us/step - loss: 0.3256 - accuracy: 0.8518\n",
      "Epoch 66/85\n",
      "614/614 [==============================] - 0s 142us/step - loss: 0.3501 - accuracy: 0.8355\n",
      "Epoch 67/85\n",
      "614/614 [==============================] - 0s 122us/step - loss: 0.3337 - accuracy: 0.8485\n",
      "Epoch 68/85\n",
      "614/614 [==============================] - 0s 116us/step - loss: 0.3290 - accuracy: 0.8502\n",
      "Epoch 69/85\n",
      "614/614 [==============================] - 0s 116us/step - loss: 0.3371 - accuracy: 0.8453\n",
      "Epoch 70/85\n",
      "614/614 [==============================] - 0s 116us/step - loss: 0.3289 - accuracy: 0.8485\n",
      "Epoch 71/85\n",
      "614/614 [==============================] - 0s 134us/step - loss: 0.3413 - accuracy: 0.8453\n",
      "Epoch 72/85\n",
      "614/614 [==============================] - 0s 114us/step - loss: 0.3387 - accuracy: 0.8453\n",
      "Epoch 73/85\n",
      "614/614 [==============================] - 0s 117us/step - loss: 0.3199 - accuracy: 0.8469\n",
      "Epoch 74/85\n",
      "614/614 [==============================] - 0s 114us/step - loss: 0.3207 - accuracy: 0.8518\n",
      "Epoch 75/85\n",
      "614/614 [==============================] - 0s 112us/step - loss: 0.3234 - accuracy: 0.8550\n",
      "Epoch 76/85\n",
      "614/614 [==============================] - 0s 112us/step - loss: 0.3546 - accuracy: 0.8371\n",
      "Epoch 77/85\n",
      "614/614 [==============================] - 0s 112us/step - loss: 0.3466 - accuracy: 0.8518\n",
      "Epoch 78/85\n",
      "614/614 [==============================] - 0s 116us/step - loss: 0.3251 - accuracy: 0.8713\n",
      "Epoch 79/85\n",
      "614/614 [==============================] - 0s 114us/step - loss: 0.3502 - accuracy: 0.8371\n",
      "Epoch 80/85\n"
     ]
    },
    {
     "name": "stdout",
     "output_type": "stream",
     "text": [
      "614/614 [==============================] - 0s 119us/step - loss: 0.3229 - accuracy: 0.8599\n",
      "Epoch 81/85\n",
      "614/614 [==============================] - 0s 116us/step - loss: 0.3439 - accuracy: 0.8339\n",
      "Epoch 82/85\n",
      "614/614 [==============================] - 0s 112us/step - loss: 0.3326 - accuracy: 0.8404\n",
      "Epoch 83/85\n",
      "614/614 [==============================] - 0s 117us/step - loss: 0.3328 - accuracy: 0.8550\n",
      "Epoch 84/85\n",
      "614/614 [==============================] - 0s 114us/step - loss: 0.3246 - accuracy: 0.8502\n",
      "Epoch 85/85\n",
      "614/614 [==============================] - 0s 112us/step - loss: 0.3304 - accuracy: 0.8469\n"
     ]
    },
    {
     "data": {
      "text/plain": [
       "<keras.callbacks.callbacks.History at 0x173fc198>"
      ]
     },
     "execution_count": 64,
     "metadata": {},
     "output_type": "execute_result"
    }
   ],
   "source": [
    "# fit the keras model on the dataset\n",
    "model.fit(X_train, y_train, epochs=85, batch_size=10)\n"
   ]
  },
  {
   "cell_type": "code",
   "execution_count": 65,
   "metadata": {},
   "outputs": [
    {
     "name": "stdout",
     "output_type": "stream",
     "text": [
      "154/154 [==============================] - 0s 175us/step\n",
      "Accuracy: 77.27\n"
     ]
    }
   ],
   "source": [
    "# evaluate the keras model\n",
    "_, accuracy = model.evaluate(X_test, y_test)\n",
    "print('Accuracy: %.2f' % (accuracy*100))"
   ]
  },
  {
   "cell_type": "code",
   "execution_count": 67,
   "metadata": {},
   "outputs": [
    {
     "name": "stdout",
     "output_type": "stream",
     "text": [
      "[1.0, 199.0, 76.0, 43.0, 0.0, 42.9, 1.394, 22.0] => 1 (expected 1)\n",
      "[2.0, 107.0, 74.0, 30.0, 100.0, 33.6, 0.404, 23.0] => 0 (expected 0)\n",
      "[4.0, 76.0, 62.0, 0.0, 0.0, 34.0, 0.391, 25.0] => 0 (expected 0)\n",
      "[5.0, 166.0, 72.0, 19.0, 175.0, 25.8, 0.587, 51.0] => 0 (expected 1)\n",
      "[0.0, 111.0, 65.0, 0.0, 0.0, 24.6, 0.66, 31.0] => 0 (expected 0)\n",
      "[1.0, 81.0, 72.0, 18.0, 40.0, 26.6, 0.283, 24.0] => 0 (expected 0)\n",
      "[9.0, 152.0, 78.0, 34.0, 171.0, 34.2, 0.893, 33.0] => 0 (expected 1)\n",
      "[3.0, 176.0, 86.0, 27.0, 156.0, 33.3, 1.154, 52.0] => 0 (expected 1)\n",
      "[2.0, 127.0, 58.0, 24.0, 275.0, 27.7, 1.6, 25.0] => 0 (expected 0)\n",
      "[6.0, 103.0, 72.0, 32.0, 190.0, 37.7, 0.324, 55.0] => 0 (expected 0)\n"
     ]
    }
   ],
   "source": [
    "# make probability predictions with the model\n",
    "predictions = model.predict(X_test)\n",
    "\n",
    "# summarize the first 10 cases\n",
    "for i in range(10):\n",
    "\tprint('%s => %d (expected %d)' % (X_test[i].tolist(), predictions[i], y_test[i]))"
   ]
  },
  {
   "cell_type": "code",
   "execution_count": null,
   "metadata": {},
   "outputs": [],
   "source": []
  }
 ],
 "metadata": {
  "kernelspec": {
   "display_name": "Python 3",
   "language": "python",
   "name": "python3"
  },
  "language_info": {
   "codemirror_mode": {
    "name": "ipython",
    "version": 3
   },
   "file_extension": ".py",
   "mimetype": "text/x-python",
   "name": "python",
   "nbconvert_exporter": "python",
   "pygments_lexer": "ipython3",
   "version": "3.7.3"
  }
 },
 "nbformat": 4,
 "nbformat_minor": 2
}
