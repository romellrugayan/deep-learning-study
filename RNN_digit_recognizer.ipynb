{
  "nbformat": 4,
  "nbformat_minor": 0,
  "metadata": {
    "colab": {
      "name": "RNN-digit-recognizer.ipynb",
      "provenance": [],
      "include_colab_link": true
    },
    "kernelspec": {
      "name": "python3",
      "display_name": "Python 3"
    }
  },
  "cells": [
    {
      "cell_type": "markdown",
      "metadata": {
        "id": "view-in-github",
        "colab_type": "text"
      },
      "source": [
        "<a href=\"https://colab.research.google.com/github/romellrugayan/deep-learning-study/blob/master/RNN_digit_recognizer.ipynb\" target=\"_parent\"><img src=\"https://colab.research.google.com/assets/colab-badge.svg\" alt=\"Open In Colab\"/></a>"
      ]
    },
    {
      "cell_type": "code",
      "metadata": {
        "id": "krTVAbCUA5TW",
        "colab_type": "code",
        "colab": {}
      },
      "source": [
        "# importing python and keras libraries\n",
        "import numpy as np\n",
        "from keras.datasets import mnist\n",
        "from keras.models import Sequential\n",
        "from keras.layers import Dense, Activation, SimpleRNN\n",
        "from keras.utils import to_categorical, plot_model"
      ],
      "execution_count": 0,
      "outputs": []
    },
    {
      "cell_type": "code",
      "metadata": {
        "id": "iqih2uETBUdF",
        "colab_type": "code",
        "colab": {}
      },
      "source": [
        "# load mnist dataset\n",
        "(X_train, y_train), (X_test, y_test) = mnist.load_data()"
      ],
      "execution_count": 0,
      "outputs": []
    },
    {
      "cell_type": "code",
      "metadata": {
        "id": "Rt2gmyVGBmCh",
        "colab_type": "code",
        "colab": {}
      },
      "source": [
        "# compute the number of labels\n",
        "num_labels = len(np.unique(y_train))"
      ],
      "execution_count": 0,
      "outputs": []
    },
    {
      "cell_type": "code",
      "metadata": {
        "id": "qH1IDS3ABueD",
        "colab_type": "code",
        "colab": {}
      },
      "source": [
        "# convert to one-hot vector\n",
        "y_train = to_categorical(y_train)\n",
        "y_test = to_categorical(y_test)"
      ],
      "execution_count": 0,
      "outputs": []
    },
    {
      "cell_type": "code",
      "metadata": {
        "id": "outFjVZ1Bu4d",
        "colab_type": "code",
        "colab": {}
      },
      "source": [
        "# image dimensions\n",
        "image_size = X_train.shape[1]"
      ],
      "execution_count": 0,
      "outputs": []
    },
    {
      "cell_type": "code",
      "metadata": {
        "id": "I7DrNd-fBvEx",
        "colab_type": "code",
        "colab": {}
      },
      "source": [
        "# resize and normalize\n",
        "X_train = np.reshape(X_train, [-1, image_size, image_size])\n",
        "X_train = X_train.astype('float32') / 255\n",
        "X_test = np.reshape(X_test, [-1, image_size, image_size])\n",
        "X_test = X_test.astype('float32') / 255"
      ],
      "execution_count": 0,
      "outputs": []
    },
    {
      "cell_type": "code",
      "metadata": {
        "id": "f-JoPVbrB-AR",
        "colab_type": "code",
        "colab": {}
      },
      "source": [
        "# network parameters\n",
        "input_shape = (image_size, image_size)\n",
        "batch_size = 128\n",
        "units = 256\n",
        "dropout = 0.20"
      ],
      "execution_count": 0,
      "outputs": []
    },
    {
      "cell_type": "code",
      "metadata": {
        "id": "l7KXerwWB-Gq",
        "colab_type": "code",
        "colab": {}
      },
      "source": [
        "# model is a stack of CNN-ReLU-MaxPooling\n",
        "model = Sequential()\n",
        "model.add(SimpleRNN(units=units, dropout=dropout, input_shape=input_shape))\n",
        "model.add(Dense(num_labels, activation='softmax'))\n",
        "model.summary()"
      ],
      "execution_count": 0,
      "outputs": []
    },
    {
      "cell_type": "code",
      "metadata": {
        "id": "bkQK-2ItB-Km",
        "colab_type": "code",
        "colab": {}
      },
      "source": [
        "# compile the model\n",
        "model.compile(loss='categorical_crossentropy', optimizer='sgd', metrics=['accuracy'])"
      ],
      "execution_count": 0,
      "outputs": []
    },
    {
      "cell_type": "code",
      "metadata": {
        "id": "bSramLGKB-Oy",
        "colab_type": "code",
        "colab": {}
      },
      "source": [
        "# fit the datasets to the model\n",
        "model.fit(X_train, y_train, epochs=20, batch_size=batch_size)"
      ],
      "execution_count": 0,
      "outputs": []
    },
    {
      "cell_type": "code",
      "metadata": {
        "id": "bFoSaEV_BvjG",
        "colab_type": "code",
        "colab": {}
      },
      "source": [
        "# validate the model\n",
        "loss, acc = model.evaluate(X_test, y_test, batch_size=batch_size)\n",
        "print('\\nTest accuracy: %.1f%%' % (100.0 * acc))"
      ],
      "execution_count": 0,
      "outputs": []
    }
  ]
}