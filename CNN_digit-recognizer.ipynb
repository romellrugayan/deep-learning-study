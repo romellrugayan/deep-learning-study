{
 "cells": [
  {
   "cell_type": "markdown",
   "metadata": {},
   "source": [
    "# Digit Recognizer Using Convolutional Neural Network (CNN)\n",
    "\n",
    "The data files train.csv and test.csv contain gray-scale images of hand-drawn digits, from zero through nine.\n",
    "\n",
    "Each image is 28 pixels in height and 28 pixels in width, for a total of 784 pixels in total. Each pixel has a single pixel-value associated with it, indicating the lightness or darkness of that pixel, with higher numbers meaning darker. This pixel-value is an integer between 0 and 255, inclusive.\n",
    "\n",
    "The training data set, (train.csv), has 785 columns. The first column, called \"label\", is the digit that was drawn by the user. The rest of the columns contain the pixel-values of the associated image.\n",
    "\n",
    "Each pixel column in the training set has a name like pixelx, where x is an integer between 0 and 783, inclusive. To locate this pixel on the image, suppose that we have decomposed x as x = i * 28 + j, where i and j are integers between 0 and 27, inclusive. Then pixelx is located on row i and column j of a 28 x 28 matrix, (indexing by zero). by: kaggle.com"
   ]
  },
  {
   "cell_type": "code",
   "execution_count": 19,
   "metadata": {
    "_cell_guid": "b1076dfc-b9ad-4769-8c92-a6c4dae69d19",
    "_uuid": "8f2839f25d086af736a60e9eeb907d3b93b6e0e5"
   },
   "outputs": [],
   "source": [
    "# importing python libraries\n",
    "import numpy as np # linear algebra\n",
    "import pandas as pd # data processing, CSV file I/O (e.g. pd.read_csv)\n",
    "import matplotlib.pyplot as plt\n",
    "%matplotlib inline"
   ]
  },
  {
   "cell_type": "code",
   "execution_count": 3,
   "metadata": {
    "_cell_guid": "79c7e3d0-c299-4dcb-8224-4455121ee9b0",
    "_uuid": "d629ff2d2480ee46fbb7e2d37f6b5fab8052498a"
   },
   "outputs": [],
   "source": [
    "train = pd.read_csv('data/train.csv')\n",
    "test = pd.read_csv('data/test.csv')"
   ]
  },
  {
   "cell_type": "code",
   "execution_count": 4,
   "metadata": {},
   "outputs": [],
   "source": [
    "X = train.iloc[:, 1:].values\n",
    "y = train.iloc[:, 0].values"
   ]
  },
  {
   "cell_type": "code",
   "execution_count": 5,
   "metadata": {},
   "outputs": [],
   "source": [
    "# convert label into a one-hot vector [m,] --> [m,10]\n",
    "# where 10 is no. of columns for 0's and 1's (equivalent to digits 0 to 9)\n",
    "from keras.utils import to_categorical\n",
    "y = to_categorical(y)"
   ]
  },
  {
   "cell_type": "code",
   "execution_count": 6,
   "metadata": {},
   "outputs": [],
   "source": [
    "# reshape the array to extract image size: 28 x 28\n",
    "m = X.shape[0]\n",
    "X_new = np.zeros((m, 28, 28), dtype=float)\n",
    "for i in range(m):\n",
    "    digit = X[i].reshape(28, 28)\n",
    "    X_new[i] = digit"
   ]
  },
  {
   "cell_type": "code",
   "execution_count": 28,
   "metadata": {},
   "outputs": [
    {
     "data": {
      "image/png": "[encoded data removed]",
      "text/plain": [
       "<Figure size 432x288 with 1 Axes>"
      ]
     },
     "metadata": {
      "needs_background": "light"
     },
     "output_type": "display_data"
    }
   ],
   "source": [
    "# view the image\n",
    "single_image = X[6].reshape(28,28)\n",
    "plt.imshow(single_image, cmap='gray')\n",
    "plt.show()"
   ]
  },
  {
   "cell_type": "code",
   "execution_count": null,
   "metadata": {},
   "outputs": [],
   "source": [
    "# reshape the array for tensorflow\n",
    "X_new = np.reshape(X_new, [-1, 28, 28, 1])"
   ]
  },
  {
   "cell_type": "code",
   "execution_count": 7,
   "metadata": {},
   "outputs": [],
   "source": [
    "# scaling the values to a range 0 to 1\n",
    "X_new = X_new/ 255.0"
   ]
  },
  {
   "cell_type": "code",
   "execution_count": 8,
   "metadata": {},
   "outputs": [],
   "source": [
    "# Splitting the dataset into the Training set and Test set\n",
    "from sklearn.model_selection import train_test_split\n",
    "X_train, X_val, y_train, y_val = train_test_split(X_new, y, test_size = 0.10, random_state = 0)"
   ]
  },
  {
   "cell_type": "code",
   "execution_count": 9,
   "metadata": {},
   "outputs": [],
   "source": [
    "# set parameters for convolutional network\n",
    "num_labels = 10\n",
    "input_shape = (28, 28, 1)\n",
    "batch_size = 128\n",
    "kernel_size = 3\n",
    "pool_size = 2\n",
    "filters = 64\n",
    "dropout = 0.2"
   ]
  },
  {
   "cell_type": "code",
   "execution_count": 13,
   "metadata": {},
   "outputs": [],
   "source": [
    "# Building the neural network requires configuring the layers of the model, then compiling the model.\n",
    "# import tensorflow and keras libraries\n",
    "from __future__ import absolute_import, division, print_function, unicode_literals\n",
    "import tensorflow as tf\n",
    "from tensorflow import keras\n",
    "\n",
    "model = keras.Sequential([\n",
    "    keras.layers.Conv2D(filters=filters, kernel_size=kernel_size, activation='relu', input_shape=input_shape),\n",
    "    keras.layers.MaxPooling2D(pool_size),\n",
    "    keras.layers.Conv2D(filters=filters, kernel_size=kernel_size, activation='relu'),\n",
    "    keras.layers.MaxPooling2D(pool_size),\n",
    "    keras.layers.Conv2D(filters=filters, kernel_size=kernel_size, activation='relu'),\n",
    "    keras.layers.Flatten(),\n",
    "    keras.layers.Dropout(dropout),\n",
    "    keras.layers.Dense(num_labels, activation='softmax')\n",
    "])"
   ]
  },
  {
   "cell_type": "code",
   "execution_count": 14,
   "metadata": {},
   "outputs": [],
   "source": [
    "# compile the model\n",
    "model.compile(optimizer='adam',\n",
    "              loss='categorical_crossentropy',\n",
    "              metrics=['accuracy'])"
   ]
  },
  {
   "cell_type": "code",
   "execution_count": 15,
   "metadata": {},
   "outputs": [
    {
     "name": "stdout",
     "output_type": "stream",
     "text": [
      "Train on 37800 samples\n",
      "Epoch 1/10\n",
      "37800/37800 [==============================] - 30s 781us/sample - loss: 0.3546 - accuracy: 0.8909\n",
      "Epoch 2/10\n",
      "37800/37800 [==============================] - 33s 879us/sample - loss: 0.0834 - accuracy: 0.9736\n",
      "Epoch 3/10\n",
      "37800/37800 [==============================] - 33s 878us/sample - loss: 0.0595 - accuracy: 0.9814\n",
      "Epoch 4/10\n",
      "37800/37800 [==============================] - 34s 890us/sample - loss: 0.0445 - accuracy: 0.9859\n",
      "Epoch 5/10\n",
      "37800/37800 [==============================] - 33s 886us/sample - loss: 0.0390 - accuracy: 0.9877\n",
      "Epoch 6/10\n",
      "37800/37800 [==============================] - 33s 875us/sample - loss: 0.0331 - accuracy: 0.9896\n",
      "Epoch 7/10\n",
      "37800/37800 [==============================] - 35s 921us/sample - loss: 0.0279 - accuracy: 0.9908\n",
      "Epoch 8/10\n",
      "37800/37800 [==============================] - 33s 867us/sample - loss: 0.0260 - accuracy: 0.9917\n",
      "Epoch 9/10\n",
      "37800/37800 [==============================] - 33s 882us/sample - loss: 0.0229 - accuracy: 0.9929\n",
      "Epoch 10/10\n",
      "37800/37800 [==============================] - 33s 875us/sample - loss: 0.0194 - accuracy: 0.9940\n"
     ]
    },
    {
     "data": {
      "text/plain": [
       "<tensorflow.python.keras.callbacks.History at 0x21c458d6198>"
      ]
     },
     "execution_count": 15,
     "metadata": {},
     "output_type": "execute_result"
    }
   ],
   "source": [
    "# train the model\n",
    "model.fit(X_train, y_train, batch_size=batch_size, epochs=10)"
   ]
  },
  {
   "cell_type": "code",
   "execution_count": 16,
   "metadata": {},
   "outputs": [
    {
     "name": "stdout",
     "output_type": "stream",
     "text": [
      "4200/1 - 1s - loss: 0.1413 - accuracy: 0.9893\n",
      "\n",
      "Test accuracy: 0.9892857\n"
     ]
    }
   ],
   "source": [
    "# evaluate accuracy\n",
    "test_loss, test_acc = model.evaluate(X_val,  y_val, verbose=2)\n",
    "print('\\nTest accuracy:', test_acc)"
   ]
  },
  {
   "cell_type": "markdown",
   "metadata": {},
   "source": [
    "## Below lines are for kaggle knowledge competition:\n",
    "This is to generate the submission csv file based on the given test data without the true/target label"
   ]
  },
  {
   "cell_type": "code",
   "execution_count": 13,
   "metadata": {},
   "outputs": [],
   "source": [
    "# test dataset\n",
    "test_data = test.iloc[:, :].values"
   ]
  },
  {
   "cell_type": "code",
   "execution_count": 14,
   "metadata": {},
   "outputs": [],
   "source": [
    "# reshape the array for tensorflow\n",
    "m = test_data.shape[0]\n",
    "X_test = np.zeros((m, 28, 28), dtype=float)\n",
    "for i in range(m):\n",
    "    digit = test_data[i].reshape(28, 28)\n",
    "    X_test[i] = digit\n",
    "X_test = np.reshape(X_test, [-1, 28, 28, 1])"
   ]
  },
  {
   "cell_type": "code",
   "execution_count": 15,
   "metadata": {},
   "outputs": [],
   "source": [
    "# scaling the values to a range 0 to 1\n",
    "X_test = X_test/ 255.0"
   ]
  },
  {
   "cell_type": "code",
   "execution_count": 16,
   "metadata": {},
   "outputs": [],
   "source": [
    "# make predictions\n",
    "predictions = model.predict(X_test)"
   ]
  },
  {
   "cell_type": "code",
   "execution_count": 17,
   "metadata": {},
   "outputs": [],
   "source": [
    "predictions_array = np.zeros((28000,1))\n",
    "for i in range(28000):\n",
    "    predictions_array[i] = np.argmax(predictions[i])\n",
    "\n",
    "predictions_array = predictions_array.astype(int).ravel()"
   ]
  },
  {
   "cell_type": "code",
   "execution_count": 18,
   "metadata": {},
   "outputs": [],
   "source": [
    "#import sample submission template\n",
    "template = pd.read_csv('data/sample_submission.csv')"
   ]
  },
  {
   "cell_type": "code",
   "execution_count": 19,
   "metadata": {},
   "outputs": [
    {
     "name": "stdout",
     "output_type": "stream",
     "text": [
      "Your submission was successfully saved!\n"
     ]
    }
   ],
   "source": [
    "data = {'ImageId': template.ImageId, 'Label': predictions_array}\n",
    "output = pd.DataFrame(data)\n",
    "output.to_csv('my_submission.csv', index=False)\n",
    "print(\"Your submission was successfully saved!\")"
   ]
  }
 ],
 "metadata": {
  "kernelspec": {
   "display_name": "Python 3",
   "language": "python",
   "name": "python3"
  },
  "language_info": {
   "codemirror_mode": {
    "name": "ipython",
    "version": 3
   },
   "file_extension": ".py",
   "mimetype": "text/x-python",
   "name": "python",
   "nbconvert_exporter": "python",
   "pygments_lexer": "ipython3",
   "version": "3.7.3"
  }
 },
 "nbformat": 4,
 "nbformat_minor": 1
}
